{
  "nbformat": 4,
  "nbformat_minor": 0,
  "metadata": {
    "colab": {
      "provenance": [],
      "authorship_tag": "ABX9TyNzTCSF2MfV5HJj0mndkJfU",
      "include_colab_link": true
    },
    "kernelspec": {
      "name": "python3",
      "display_name": "Python 3"
    },
    "language_info": {
      "name": "python"
    }
  },
  "cells": [
    {
      "cell_type": "markdown",
      "metadata": {
        "id": "view-in-github",
        "colab_type": "text"
      },
      "source": [
        "<a href=\"https://colab.research.google.com/github/slugmilk/Study_Data-Analysis/blob/main/1_%EB%84%98%ED%8C%8C%EC%9D%B4.ipynb\" target=\"_parent\"><img src=\"https://colab.research.google.com/assets/colab-badge.svg\" alt=\"Open In Colab\"/></a>"
      ]
    },
    {
      "cell_type": "markdown",
      "source": [
        "# **1. 넘파이(Numpy)**\n",
        "* 파이썬에서 사용되는 과학 및 수학 연산을 위한 강력한 라이브러리\n",
        "* 주로 다차원 배열을 다루는 데에 특화되어 있어, 데이터 분석, 머신러닝, 과학 계산 등 다양한 분야에서 널리 사용\n",
        "* 넘파이 배열은 c언어로 구현되어 있어 연산이 빠르고 효율적\n",
        "* 넘파이 배열은 큰 데이터셋에서 수치 연산을 수행할 때 뛰어난 성능을 보이며, 메모리 사용을 최적화하고 효율적으로 관리"
      ],
      "metadata": {
        "id": "ZNJFVVQcnzMU"
      }
    },
    {
      "cell_type": "code",
      "source": [
        "!pip install numpy"
      ],
      "metadata": {
        "colab": {
          "base_uri": "https://localhost:8080/"
        },
        "id": "H3vaRba0prAc",
        "outputId": "e0679ba4-74ac-443a-ceb4-b168e7597739"
      },
      "execution_count": null,
      "outputs": [
        {
          "output_type": "stream",
          "name": "stdout",
          "text": [
            "Requirement already satisfied: numpy in /usr/local/lib/python3.10/dist-packages (1.25.2)\n"
          ]
        }
      ]
    },
    {
      "cell_type": "markdown",
      "source": [
        "# **2. 넘파이의 주요 특징과 기능**\n"
      ],
      "metadata": {
        "id": "bobomOPZpur6"
      }
    },
    {
      "cell_type": "markdown",
      "source": [
        "### 2-1. 다차원 배열(N-dimensional array)\n",
        "* 넘파이의 핵심은 다차원 배열 ndarray\n",
        "* ndarray는 동일한 자료형을 가지는 원소들로 이루어져 있음\n"
      ],
      "metadata": {
        "id": "C85T3vA-p487"
      }
    },
    {
      "cell_type": "code",
      "source": [
        "list1 = [1, 2, 3, 4]\n",
        "print(list1)\n",
        "print(type(list1))\n",
        "print(type(list1[0]))\n",
        "\n",
        "list2 = [[1, 2, 3, 4], [5, 6, 7, 8]]\n",
        "print(list2)\n",
        "print(type(list2))\n",
        "print(type(list2[0]))"
      ],
      "metadata": {
        "colab": {
          "base_uri": "https://localhost:8080/"
        },
        "id": "aXo9gR14qGfo",
        "outputId": "9e3509af-6378-4108-9a9c-910c7ed1b19b"
      },
      "execution_count": null,
      "outputs": [
        {
          "output_type": "stream",
          "name": "stdout",
          "text": [
            "[1, 2, 3, 4]\n",
            "<class 'list'>\n",
            "<class 'int'>\n",
            "[[1, 2, 3, 4], [5, 6, 7, 8]]\n",
            "<class 'list'>\n",
            "<class 'list'>\n"
          ]
        }
      ]
    },
    {
      "cell_type": "code",
      "source": [
        "import numpy as np"
      ],
      "metadata": {
        "id": "YEuoSjJrqYM3"
      },
      "execution_count": null,
      "outputs": []
    },
    {
      "cell_type": "code",
      "source": [
        "ndarr1 = np.array([1, 2, 3, 4]) # np.array 함수 안에 리스트를 넣으면 자료형이 ndarray가 됨\n",
        "print(ndarr1)\n",
        "print(type(ndarr1))\n",
        "print(type(ndarr1[0]))"
      ],
      "metadata": {
        "colab": {
          "base_uri": "https://localhost:8080/"
        },
        "id": "DDLNBwKsq6vK",
        "outputId": "ee709c51-957d-4648-a012-7eacd5ac74fc"
      },
      "execution_count": null,
      "outputs": [
        {
          "output_type": "stream",
          "name": "stdout",
          "text": [
            "[1 2 3 4]\n",
            "<class 'numpy.ndarray'>\n",
            "<class 'numpy.int64'>\n"
          ]
        }
      ]
    },
    {
      "cell_type": "code",
      "source": [
        "ndarr2 = np.array([[1, 2, 3], [4, 5, 6]])\n",
        "print(ndarr2)\n",
        "print(type(ndarr2))\n",
        "print(type(ndarr2[0]))"
      ],
      "metadata": {
        "colab": {
          "base_uri": "https://localhost:8080/"
        },
        "id": "zBbxELR3rKOW",
        "outputId": "c06f4657-031e-408e-efdc-3e8d580cf817"
      },
      "execution_count": null,
      "outputs": [
        {
          "output_type": "stream",
          "name": "stdout",
          "text": [
            "[[1 2 3]\n",
            " [4 5 6]]\n",
            "<class 'numpy.ndarray'>\n",
            "<class 'numpy.ndarray'>\n"
          ]
        }
      ]
    },
    {
      "cell_type": "markdown",
      "source": [
        "### 2-2. 리스트와 ndarray 변환"
      ],
      "metadata": {
        "id": "KL8DLyZurlrz"
      }
    },
    {
      "cell_type": "code",
      "source": [
        "# 리스트를 ndarray로 변환\n",
        "li1 = [1, 2, 3, 4]\n",
        "ndarr1 = np.array(li1)\n",
        "print(ndarr1)\n",
        "print(type(ndarr1))"
      ],
      "metadata": {
        "colab": {
          "base_uri": "https://localhost:8080/"
        },
        "id": "jxqSkWv_sOyf",
        "outputId": "0be55fcb-bff6-4913-9e44-fb6c9e98973a"
      },
      "execution_count": null,
      "outputs": [
        {
          "output_type": "stream",
          "name": "stdout",
          "text": [
            "[1 2 3 4]\n",
            "<class 'numpy.ndarray'>\n"
          ]
        }
      ]
    },
    {
      "cell_type": "code",
      "source": [
        "# ndarray를 리스트로 변환\n",
        "li2 = ndarr1.tolist()\n",
        "print(li2)\n",
        "print(type(li2))"
      ],
      "metadata": {
        "colab": {
          "base_uri": "https://localhost:8080/"
        },
        "id": "o7zA7y7QsfmC",
        "outputId": "35d3f238-d89a-429e-896e-76e240c7b8b5"
      },
      "execution_count": null,
      "outputs": [
        {
          "output_type": "stream",
          "name": "stdout",
          "text": [
            "[1, 2, 3, 4]\n",
            "<class 'list'>\n"
          ]
        }
      ]
    },
    {
      "cell_type": "markdown",
      "source": [
        "### 2-3. ndarray의 데이터 타입\n",
        "* 넘파이의 ndarray는 동일한 자료형을 가지는 원소들로 이루어져 있으며, 다양한 데이터 타입을 지원"
      ],
      "metadata": {
        "id": "gpxiV6rKsrmv"
      }
    },
    {
      "cell_type": "code",
      "source": [
        "li1 = [1, 3.14, 'Python', '🐹', True]\n",
        "print(li1) # 리스트 내 요소들의 타입이 다 다르지만 에러 X\n",
        "print(type(li1))\n",
        "print(type(li1[0]))\n",
        "print(type(li1[1]))\n",
        "print(type(li1[2]))\n",
        "print(type(li1[3]))\n",
        "print(type(li1[4]))"
      ],
      "metadata": {
        "colab": {
          "base_uri": "https://localhost:8080/"
        },
        "id": "-D2FIaUxtDNc",
        "outputId": "a904e4ed-95b3-4cc7-d6df-75227c37abd8"
      },
      "execution_count": null,
      "outputs": [
        {
          "output_type": "stream",
          "name": "stdout",
          "text": [
            "[1, 3.14, 'Python', '🐹', True]\n",
            "<class 'list'>\n",
            "<class 'int'>\n",
            "<class 'float'>\n",
            "<class 'str'>\n",
            "<class 'str'>\n",
            "<class 'bool'>\n"
          ]
        }
      ]
    },
    {
      "cell_type": "code",
      "source": [
        "ndarr1 = np.array([1, 2, 3, 4])\n",
        "print(ndarr1)\n",
        "print(type(ndarr1))\n",
        "print(type(ndarr1[0]))\n",
        "print(type(ndarr1[1]))"
      ],
      "metadata": {
        "colab": {
          "base_uri": "https://localhost:8080/"
        },
        "id": "mUHib8JVtUWb",
        "outputId": "9a0a9c53-39d6-4d2f-b10d-34cd0449e8e1"
      },
      "execution_count": null,
      "outputs": [
        {
          "output_type": "stream",
          "name": "stdout",
          "text": [
            "[1 2 3 4]\n",
            "<class 'numpy.ndarray'>\n",
            "<class 'numpy.int64'>\n",
            "<class 'numpy.int64'>\n"
          ]
        }
      ]
    },
    {
      "cell_type": "code",
      "source": [
        "ndarr2 = np.array([1, 2, 3.14, 4])\n",
        "print(ndarr2) # 정수가 다 실수로 바뀜 (요소 중 가장 큰 데이터타입으로 변환됨)\n",
        "print(type(ndarr2))\n",
        "print(type(ndarr2[0]))\n",
        "print(type(ndarr2[2]))"
      ],
      "metadata": {
        "colab": {
          "base_uri": "https://localhost:8080/"
        },
        "id": "RJdDw2UptxNI",
        "outputId": "8420ea39-6c5b-4ba7-975c-f9f439d9b39e"
      },
      "execution_count": null,
      "outputs": [
        {
          "output_type": "stream",
          "name": "stdout",
          "text": [
            "[1.   2.   3.14 4.  ]\n",
            "<class 'numpy.ndarray'>\n",
            "<class 'numpy.float64'>\n",
            "<class 'numpy.float64'>\n"
          ]
        }
      ]
    },
    {
      "cell_type": "code",
      "source": [
        "ndarr3 = np.array([1, 2, 3.14, True])\n",
        "print(ndarr3)\n",
        "print(type(ndarr3))\n",
        "print(type(ndarr3[2]))\n",
        "print(type(ndarr3[3]))"
      ],
      "metadata": {
        "colab": {
          "base_uri": "https://localhost:8080/"
        },
        "id": "taeLE0Yqt4HK",
        "outputId": "204618a0-d587-42aa-b3d5-81142e9dfb7d"
      },
      "execution_count": null,
      "outputs": [
        {
          "output_type": "stream",
          "name": "stdout",
          "text": [
            "[1.   2.   3.14 1.  ]\n",
            "<class 'numpy.ndarray'>\n",
            "<class 'numpy.float64'>\n",
            "<class 'numpy.float64'>\n"
          ]
        }
      ]
    },
    {
      "cell_type": "code",
      "source": [
        "ndarr4 = np.array(['1', 2, 3.14, True])\n",
        "print(ndarr4)\n",
        "print(type(ndarr4))\n",
        "print(type(ndarr4[0]))\n",
        "print(type(ndarr4[1]))"
      ],
      "metadata": {
        "colab": {
          "base_uri": "https://localhost:8080/"
        },
        "id": "nNDYMdEPuZ0a",
        "outputId": "3c759677-4f74-451d-a0b6-5cc4e484f5e7"
      },
      "execution_count": null,
      "outputs": [
        {
          "output_type": "stream",
          "name": "stdout",
          "text": [
            "['1' '2' '3.14' 'True']\n",
            "<class 'numpy.ndarray'>\n",
            "<class 'numpy.str_'>\n",
            "<class 'numpy.str_'>\n"
          ]
        }
      ]
    },
    {
      "cell_type": "code",
      "source": [
        "ndarr3 = np.array([1, 2, 3.14, True], dtype=int) # 모든 요소를 int형으로 변환\n",
        "print(ndarr3)\n",
        "print(type(ndarr3))\n",
        "print(type(ndarr3[2]))\n",
        "print(type(ndarr3[3]))"
      ],
      "metadata": {
        "colab": {
          "base_uri": "https://localhost:8080/"
        },
        "id": "ScxMMXPIvIcA",
        "outputId": "5ccd7d3e-b93b-458a-c4ed-ea25385b029a"
      },
      "execution_count": null,
      "outputs": [
        {
          "output_type": "stream",
          "name": "stdout",
          "text": [
            "[1 2 3 1]\n",
            "<class 'numpy.ndarray'>\n",
            "<class 'numpy.int64'>\n",
            "<class 'numpy.int64'>\n"
          ]
        }
      ]
    },
    {
      "cell_type": "code",
      "source": [
        "ndarr4 = np.array(['1', 2, 3.14, True], dtype=int) # 문자열 안이 숫자라면 형변환이 됨. 문자열 안에 문자가 있으면 에러남\n",
        "print(ndarr4)\n",
        "print(type(ndarr4))\n",
        "print(type(ndarr4[0]))\n",
        "print(type(ndarr4[1]))"
      ],
      "metadata": {
        "colab": {
          "base_uri": "https://localhost:8080/"
        },
        "id": "sZ0o2qqIv0Ar",
        "outputId": "5c372cef-eb38-4fa4-e1a0-7e4cadfda086"
      },
      "execution_count": null,
      "outputs": [
        {
          "output_type": "stream",
          "name": "stdout",
          "text": [
            "[1 2 3 1]\n",
            "<class 'numpy.ndarray'>\n",
            "<class 'numpy.int64'>\n",
            "<class 'numpy.int64'>\n"
          ]
        }
      ]
    },
    {
      "cell_type": "code",
      "source": [
        "# ndarr4 = np.array(['일', 2, 3.14, True], dtype=int)\n",
        "# ValueError: invalid literal for int() with base 10: '일'"
      ],
      "metadata": {
        "id": "NGvPh5-Lv8XD"
      },
      "execution_count": null,
      "outputs": []
    },
    {
      "cell_type": "markdown",
      "source": [
        "### 2-4. ndarray 인덱싱과 슬라이싱"
      ],
      "metadata": {
        "id": "w5P2BFPHwKmv"
      }
    },
    {
      "cell_type": "code",
      "source": [
        "ndarr1 = np.array(['🐹', '😺', '🙈', '🐸', '🐻'])\n",
        "print(ndarr1)\n",
        "print(ndarr1.shape) # 차원을 튜플로 알려줌"
      ],
      "metadata": {
        "colab": {
          "base_uri": "https://localhost:8080/"
        },
        "id": "ERQu5O0cwVHx",
        "outputId": "7b364f24-280e-4c90-f356-f9ff84af04ea"
      },
      "execution_count": null,
      "outputs": [
        {
          "output_type": "stream",
          "name": "stdout",
          "text": [
            "['🐹' '😺' '🙈' '🐸' '🐻']\n",
            "(5,)\n"
          ]
        }
      ]
    },
    {
      "cell_type": "code",
      "source": [
        "# 인덱싱 -> 차원 축소됨\n",
        "print(ndarr1[0])\n",
        "print(ndarr1[4])\n",
        "print(ndarr1[-1])\n",
        "print(ndarr1[-2])"
      ],
      "metadata": {
        "colab": {
          "base_uri": "https://localhost:8080/"
        },
        "id": "S-fO6FQNwqOO",
        "outputId": "e2c86843-c8f3-4dd7-cb15-cbfe1669d930"
      },
      "execution_count": null,
      "outputs": [
        {
          "output_type": "stream",
          "name": "stdout",
          "text": [
            "🐹\n",
            "🐻\n",
            "🐻\n",
            "🐸\n"
          ]
        }
      ]
    },
    {
      "cell_type": "code",
      "source": [
        "# 슬라이싱 -> 차원 그대로\n",
        "print(ndarr1[0:3])\n",
        "print(ndarr1[2:])\n",
        "print(ndarr1[:3])"
      ],
      "metadata": {
        "colab": {
          "base_uri": "https://localhost:8080/"
        },
        "id": "wrS0q3QcxQnZ",
        "outputId": "30f278a9-53c8-4647-883c-4d3282ed53ac"
      },
      "execution_count": null,
      "outputs": [
        {
          "output_type": "stream",
          "name": "stdout",
          "text": [
            "['🐹' '😺' '🙈']\n",
            "['🙈' '🐸' '🐻']\n",
            "['🐹' '😺' '🙈']\n"
          ]
        }
      ]
    },
    {
      "cell_type": "code",
      "source": [
        "# 2차원 배열\n",
        "ndarr2d = np.array([[1, 2, 3, 4],\n",
        "                    [5, 6, 7, 8],\n",
        "                    [9, 10, 11, 12]])\n",
        "print(ndarr2d)\n",
        "print(ndarr2d.shape) # 3개의 행, 4개의 열"
      ],
      "metadata": {
        "colab": {
          "base_uri": "https://localhost:8080/"
        },
        "id": "QJYgsGWLx0JP",
        "outputId": "5d11251a-7958-40ce-b42c-98bce915902d"
      },
      "execution_count": null,
      "outputs": [
        {
          "output_type": "stream",
          "name": "stdout",
          "text": [
            "[[ 1  2  3  4]\n",
            " [ 5  6  7  8]\n",
            " [ 9 10 11 12]]\n",
            "(3, 4)\n"
          ]
        }
      ]
    },
    {
      "cell_type": "code",
      "source": [
        "# 0행 가져오기\n",
        "print(ndarr2d[0, :])\n",
        "print(ndarr2d[0,])\n",
        "print(ndarr2d[0]) # 행을 가져올 땐 생략 가능"
      ],
      "metadata": {
        "colab": {
          "base_uri": "https://localhost:8080/"
        },
        "id": "xncn2biKyEzc",
        "outputId": "8b911226-47ad-420e-8a57-7a3e066c03ed"
      },
      "execution_count": null,
      "outputs": [
        {
          "output_type": "stream",
          "name": "stdout",
          "text": [
            "[1 2 3 4]\n",
            "[1 2 3 4]\n",
            "[1 2 3 4]\n"
          ]
        }
      ]
    },
    {
      "cell_type": "code",
      "source": [
        "# 0열 가져오기\n",
        "print(ndarr2d[:, 0]) # :도 생략 불가능"
      ],
      "metadata": {
        "colab": {
          "base_uri": "https://localhost:8080/"
        },
        "id": "NNaBRxI8ymoy",
        "outputId": "dc08244a-4693-4bde-cd0e-b7f311a03012"
      },
      "execution_count": null,
      "outputs": [
        {
          "output_type": "stream",
          "name": "stdout",
          "text": [
            "[1 5 9]\n"
          ]
        }
      ]
    },
    {
      "cell_type": "markdown",
      "source": [
        "### 2-5. Fancy Indexing\n",
        "* 정수 배열이나 불리언 배열을 사용하여 배열의 일부를 선택하는 방법\n",
        "* 여러 개의 요소를 한 번에 선택하거나 조건에 맞게 선택할 수 있음"
      ],
      "metadata": {
        "id": "EDRiTB-Vy7dF"
      }
    },
    {
      "cell_type": "code",
      "source": [
        "ndarr1 = np.array([10, 16, 2, 8, 20, 90, 85, 44, 23, 32])\n",
        "idx = [2, 5, 9]\n",
        "ndarr1[idx]"
      ],
      "metadata": {
        "colab": {
          "base_uri": "https://localhost:8080/"
        },
        "id": "RE3XiVoo2DxN",
        "outputId": "d871fd02-099b-43c8-e62d-646187b091a4"
      },
      "execution_count": null,
      "outputs": [
        {
          "output_type": "execute_result",
          "data": {
            "text/plain": [
              "array([ 2, 90, 32])"
            ]
          },
          "metadata": {},
          "execution_count": 54
        }
      ]
    },
    {
      "cell_type": "code",
      "source": [
        "ndarr2d = np.array([[1, 2, 3, 4],\n",
        "                    [5, 6, 7, 8],\n",
        "                    [9, 10, 11, 12]])\n",
        "ndarr2d[[0, 1], :]"
      ],
      "metadata": {
        "colab": {
          "base_uri": "https://localhost:8080/"
        },
        "id": "zM5X28g32Ufd",
        "outputId": "9e6bc6d3-4d0f-41ca-9ce1-586cd08a9255"
      },
      "execution_count": null,
      "outputs": [
        {
          "output_type": "execute_result",
          "data": {
            "text/plain": [
              "array([[1, 2, 3, 4],\n",
              "       [5, 6, 7, 8]])"
            ]
          },
          "metadata": {},
          "execution_count": 56
        }
      ]
    },
    {
      "cell_type": "markdown",
      "source": [
        "### 2-6. Boolean Indexing\n",
        "* 불리언 값으로 이루어진 배열을 사용하여 조건을 충족하는 원소만 선택하는 방법"
      ],
      "metadata": {
        "id": "1_teW3l72vfG"
      }
    },
    {
      "cell_type": "code",
      "source": [
        "ndarr1 = np.array(['🐹', '😺', '🙈', '🐸', '🐻'])\n",
        "sel = [True, False, True, True, False] # 개수 맞아야 함\n",
        "ndarr1[sel]"
      ],
      "metadata": {
        "colab": {
          "base_uri": "https://localhost:8080/"
        },
        "id": "HQtGICfd29Lv",
        "outputId": "bf0c45cc-0ca7-4122-c0ca-1f17f5690e09"
      },
      "execution_count": null,
      "outputs": [
        {
          "output_type": "execute_result",
          "data": {
            "text/plain": [
              "array(['🐹', '🙈', '🐸'], dtype='<U1')"
            ]
          },
          "metadata": {},
          "execution_count": 58
        }
      ]
    },
    {
      "cell_type": "code",
      "source": [
        "ndarr2d = np.array([[1, 2, 3, 4],\n",
        "                    [5, 6, 7, 8],\n",
        "                    [9, 10, 11, 12]])\n",
        "ndarr2d[ndarr2d > 7]"
      ],
      "metadata": {
        "colab": {
          "base_uri": "https://localhost:8080/"
        },
        "id": "NJRGzrxO3Hzo",
        "outputId": "bcf4a1fd-5607-4965-ee68-7113f795c600"
      },
      "execution_count": null,
      "outputs": [
        {
          "output_type": "execute_result",
          "data": {
            "text/plain": [
              "array([ 8,  9, 10, 11, 12])"
            ]
          },
          "metadata": {},
          "execution_count": 59
        }
      ]
    },
    {
      "cell_type": "markdown",
      "source": [
        "# **3. 행렬 연산**\n",
        "* 넘파이에서는 다차원 배열인 ndarray를 사용하여 행렬 연산을 수행\n",
        "* 행렬 연산은 선형 대수와 관련이 깊어서 데이터 과학, 머신러닝, 통계 등 다양한 분야에서 사용"
      ],
      "metadata": {
        "id": "q3vWGLEo3vko"
      }
    },
    {
      "cell_type": "code",
      "source": [
        "ndarr1 = np.array([[1, 2, 3],\n",
        "                 [2, 3, 4]])\n",
        "ndarr2 = np.array([[3, 4, 5],\n",
        "                   [1, 2, 3]])\n",
        "print(ndarr1.shape)\n",
        "print(ndarr2.shape)"
      ],
      "metadata": {
        "colab": {
          "base_uri": "https://localhost:8080/"
        },
        "id": "nfYUie7W4_en",
        "outputId": "1752e95c-7735-47e5-f8ed-1f55bfd10a65"
      },
      "execution_count": null,
      "outputs": [
        {
          "output_type": "stream",
          "name": "stdout",
          "text": [
            "(2, 3)\n",
            "(2, 3)\n"
          ]
        }
      ]
    },
    {
      "cell_type": "code",
      "source": [
        "# 행렬 덧셈\n",
        "ndarr1 + ndarr2"
      ],
      "metadata": {
        "colab": {
          "base_uri": "https://localhost:8080/"
        },
        "id": "gXpmH2l35aS_",
        "outputId": "d09849d2-9379-4b5b-f47b-19ee8a785e31"
      },
      "execution_count": null,
      "outputs": [
        {
          "output_type": "execute_result",
          "data": {
            "text/plain": [
              "array([[4, 6, 8],\n",
              "       [3, 5, 7]])"
            ]
          },
          "metadata": {},
          "execution_count": 62
        }
      ]
    },
    {
      "cell_type": "code",
      "source": [
        "# 행렬 뺄셈\n",
        "ndarr1 - ndarr2"
      ],
      "metadata": {
        "colab": {
          "base_uri": "https://localhost:8080/"
        },
        "id": "4iOIbEYo5jmI",
        "outputId": "ac419229-ab93-4fbf-81c7-f844f2a01821"
      },
      "execution_count": null,
      "outputs": [
        {
          "output_type": "execute_result",
          "data": {
            "text/plain": [
              "array([[-2, -2, -2],\n",
              "       [ 1,  1,  1]])"
            ]
          },
          "metadata": {},
          "execution_count": 63
        }
      ]
    },
    {
      "cell_type": "code",
      "source": [
        "# 행렬 원소별 곱셈\n",
        "ndarr1 * ndarr2"
      ],
      "metadata": {
        "colab": {
          "base_uri": "https://localhost:8080/"
        },
        "id": "gpmjaU3n5tms",
        "outputId": "cd274d05-d673-40ac-cab1-a721b0efd8a5"
      },
      "execution_count": null,
      "outputs": [
        {
          "output_type": "execute_result",
          "data": {
            "text/plain": [
              "array([[ 3,  8, 15],\n",
              "       [ 2,  6, 12]])"
            ]
          },
          "metadata": {},
          "execution_count": 64
        }
      ]
    },
    {
      "cell_type": "code",
      "source": [
        "# 행렬 나눗셈\n",
        "ndarr1 / ndarr2"
      ],
      "metadata": {
        "colab": {
          "base_uri": "https://localhost:8080/"
        },
        "id": "o4DDZbMk57kf",
        "outputId": "09d65642-d55b-4b9b-d630-d92a0e6f106a"
      },
      "execution_count": null,
      "outputs": [
        {
          "output_type": "execute_result",
          "data": {
            "text/plain": [
              "array([[0.33333333, 0.5       , 0.6       ],\n",
              "       [2.        , 1.5       , 1.33333333]])"
            ]
          },
          "metadata": {},
          "execution_count": 65
        }
      ]
    },
    {
      "cell_type": "code",
      "source": [
        "# 행렬곱(matrix multiplication)\n",
        "# 행렬곱의 조건: 맞닿는 shape가 같아야함. 떨어져 있는 shape가 결과 행렬이 됨\n",
        "# (n, m) @ (m, p) -> (n, p)\n",
        "# 선형 변환을 표현하고 계산하는 도구로 사용(행렬의 공간을 다른 공간으로 변환하는 작업)\n",
        "# 선형 연립 방정식을 행렬 형태로 나타내고 이를 풀기 위해 행렬 곱을 사용\n",
        "\n",
        "ndarr3 = np.array([[1, 2, 3],\n",
        "                   [1, 2, 3],\n",
        "                   [2, 3, 4]])\n",
        "ndarr4 = np.array([[1, 2],\n",
        "                   [3, 4],\n",
        "                   [5, 6]])\n",
        "print(ndarr3.shape)\n",
        "print(ndarr4.shape)"
      ],
      "metadata": {
        "colab": {
          "base_uri": "https://localhost:8080/"
        },
        "id": "QmHuQIHm5_h9",
        "outputId": "e2762822-cdea-4ca2-ac48-556e7a717cf3"
      },
      "execution_count": null,
      "outputs": [
        {
          "output_type": "stream",
          "name": "stdout",
          "text": [
            "(3, 3)\n",
            "(3, 2)\n"
          ]
        }
      ]
    },
    {
      "cell_type": "code",
      "source": [
        "print((1*1 + 2*3 + 3*5), (1*2 + 2*4 + 3*6))\n",
        "print((1*1 + 2*3 + 3*5), (1*2 + 2*4 + 3*6))\n",
        "print((2*1 + 3*3 + 4*5), (2*2 + 3*4 + 4*6))"
      ],
      "metadata": {
        "colab": {
          "base_uri": "https://localhost:8080/"
        },
        "id": "qfG-dnbP6-qP",
        "outputId": "8e938ada-3088-437a-b2a0-b1c37d78d8b6"
      },
      "execution_count": null,
      "outputs": [
        {
          "output_type": "stream",
          "name": "stdout",
          "text": [
            "22 28\n",
            "22 28\n",
            "31 40\n"
          ]
        }
      ]
    },
    {
      "cell_type": "code",
      "source": [
        "ndarr3 @ ndarr4"
      ],
      "metadata": {
        "colab": {
          "base_uri": "https://localhost:8080/"
        },
        "id": "3bESqjSf7yBX",
        "outputId": "4f80fee8-6373-4d48-9224-ab58fe449aca"
      },
      "execution_count": null,
      "outputs": [
        {
          "output_type": "execute_result",
          "data": {
            "text/plain": [
              "array([[22, 28],\n",
              "       [22, 28],\n",
              "       [31, 40]])"
            ]
          },
          "metadata": {},
          "execution_count": 76
        }
      ]
    },
    {
      "cell_type": "code",
      "source": [
        "np.dot(ndarr3, ndarr4) # 내적"
      ],
      "metadata": {
        "colab": {
          "base_uri": "https://localhost:8080/"
        },
        "id": "VFiHKHkw70rL",
        "outputId": "935fa526-f16e-42e7-d0a3-5d31cf8de274"
      },
      "execution_count": null,
      "outputs": [
        {
          "output_type": "execute_result",
          "data": {
            "text/plain": [
              "array([[22, 28],\n",
              "       [22, 28],\n",
              "       [31, 40]])"
            ]
          },
          "metadata": {},
          "execution_count": 77
        }
      ]
    },
    {
      "cell_type": "code",
      "source": [
        "# 전치 행렬\n",
        "# 기존 행렬의 행과 열을 바꾼 새로운 행렬\n",
        "print(ndarr1)\n",
        "print(ndarr1.T)"
      ],
      "metadata": {
        "colab": {
          "base_uri": "https://localhost:8080/"
        },
        "id": "YweUDYtZ8RPK",
        "outputId": "cc9cd967-92a9-4fa2-98ec-8a71484273d9"
      },
      "execution_count": null,
      "outputs": [
        {
          "output_type": "stream",
          "name": "stdout",
          "text": [
            "[[1 2 3]\n",
            " [2 3 4]]\n",
            "[[1 2]\n",
            " [2 3]\n",
            " [3 4]]\n"
          ]
        }
      ]
    },
    {
      "cell_type": "code",
      "source": [
        "# 역행렬\n",
        "# 주어진 정사각 행렬에 대한 곱셈 연산으로 단위 행렬을 얻을 수 있는 행렬\n",
        "# 단위행렬: 주대각선의 원소가 모두 1이고, 나머지 원소가 모두 0인 정사각형 행렬\n",
        "\n",
        "arr = np.array([[1, 2],\n",
        "                [3, 4]])\n",
        "print(arr)\n",
        "print(np.linalg.inv(arr))\n",
        "print(arr @ np.linalg.inv(arr))"
      ],
      "metadata": {
        "colab": {
          "base_uri": "https://localhost:8080/"
        },
        "id": "e_vgl2J79J71",
        "outputId": "779f6b10-90c8-49c0-cda5-a1c3bb8c949d"
      },
      "execution_count": null,
      "outputs": [
        {
          "output_type": "stream",
          "name": "stdout",
          "text": [
            "[[1 2]\n",
            " [3 4]]\n",
            "[[-2.   1. ]\n",
            " [ 1.5 -0.5]]\n",
            "[[1.0000000e+00 0.0000000e+00]\n",
            " [8.8817842e-16 1.0000000e+00]]\n"
          ]
        }
      ]
    },
    {
      "cell_type": "markdown",
      "source": [
        "# **4. 순차적인 값 생성**"
      ],
      "metadata": {
        "id": "Z3aFl4xC9sVi"
      }
    },
    {
      "cell_type": "code",
      "source": [
        "arr1 = range(1, 11)\n",
        "print(arr1) # range 객체로 만들어짐\n",
        "print(type(arr1))\n",
        "\n",
        "for i in arr1:\n",
        "  print(i, end=' ')"
      ],
      "metadata": {
        "colab": {
          "base_uri": "https://localhost:8080/"
        },
        "id": "4qplqXnJ-s5s",
        "outputId": "a4cc1203-9b5f-4785-8d9a-07783fd64b16"
      },
      "execution_count": null,
      "outputs": [
        {
          "output_type": "stream",
          "name": "stdout",
          "text": [
            "range(1, 11)\n",
            "<class 'range'>\n",
            "1 2 3 4 5 6 7 8 9 10 "
          ]
        }
      ]
    },
    {
      "cell_type": "code",
      "source": [
        "arr2 = np.arange(1, 11)\n",
        "print(arr2)\n",
        "print(type(arr2)) # 반환되는 값은 ndarray 형태\n",
        "\n",
        "for i in arr2:\n",
        "  print(i, end=' ')"
      ],
      "metadata": {
        "colab": {
          "base_uri": "https://localhost:8080/"
        },
        "id": "-5jpWOeE-0lu",
        "outputId": "b8f1a50b-264d-4307-8ee5-ed52ba824742"
      },
      "execution_count": null,
      "outputs": [
        {
          "output_type": "stream",
          "name": "stdout",
          "text": [
            "[ 1  2  3  4  5  6  7  8  9 10]\n",
            "<class 'numpy.ndarray'>\n",
            "1 2 3 4 5 6 7 8 9 10 "
          ]
        }
      ]
    },
    {
      "cell_type": "markdown",
      "source": [
        "# **5. 정렬**\n"
      ],
      "metadata": {
        "id": "-Dl7d1lH_EMA"
      }
    },
    {
      "cell_type": "code",
      "source": [
        "ndarr1 = np.array([1, 10, 5, 7, 2, 4, 3, 6, 8, 9])\n",
        "print(ndarr1)\n",
        "print(np.sort(ndarr1)) # 오름차순\n",
        "print(ndarr1) # 원본 배열은 변하지 않음. 즉 in-place 연산이 되지 않음\n",
        "print(np.sort(ndarr1)[::-1]) # 내림차순"
      ],
      "metadata": {
        "colab": {
          "base_uri": "https://localhost:8080/"
        },
        "id": "8Q56hOx-_oA9",
        "outputId": "19db9b52-7a88-4b48-90fa-5f330fc86e9d"
      },
      "execution_count": null,
      "outputs": [
        {
          "output_type": "stream",
          "name": "stdout",
          "text": [
            "[ 1 10  5  7  2  4  3  6  8  9]\n",
            "[ 1  2  3  4  5  6  7  8  9 10]\n",
            "[ 1 10  5  7  2  4  3  6  8  9]\n",
            "[10  9  8  7  6  5  4  3  2  1]\n"
          ]
        }
      ]
    },
    {
      "cell_type": "code",
      "source": [
        "ndarr2d = np.array([[11, 10, 12, 9],\n",
        "                   [3, 1, 4, 2],\n",
        "                   [5, 6, 7, 8]])\n",
        "print(ndarr2d)\n",
        "print(np.sort(ndarr2d, axis=0)) # 행을 기준으로 정렬\n",
        "print(np.sort(ndarr2d, axis=1)) # 열을 기준으로 정렬\n",
        "print(np.sort(ndarr2d, axis=1)[:, ::-1]) # 열을 기준으로 내림차순 정렬\n",
        "print(np.sort(ndarr2d, axis=-1)) # 축의 마지막 방향"
      ],
      "metadata": {
        "colab": {
          "base_uri": "https://localhost:8080/"
        },
        "id": "OjoTU0VgAL0k",
        "outputId": "113c5dad-0582-4ce5-c481-5250bd7b0886"
      },
      "execution_count": null,
      "outputs": [
        {
          "output_type": "stream",
          "name": "stdout",
          "text": [
            "[[11 10 12  9]\n",
            " [ 3  1  4  2]\n",
            " [ 5  6  7  8]]\n",
            "[[ 3  1  4  2]\n",
            " [ 5  6  7  8]\n",
            " [11 10 12  9]]\n",
            "[[ 9 10 11 12]\n",
            " [ 1  2  3  4]\n",
            " [ 5  6  7  8]]\n",
            "[[12 11 10  9]\n",
            " [ 4  3  2  1]\n",
            " [ 8  7  6  5]]\n",
            "[[ 9 10 11 12]\n",
            " [ 1  2  3  4]\n",
            " [ 5  6  7  8]]\n"
          ]
        }
      ]
    },
    {
      "cell_type": "code",
      "source": [],
      "metadata": {
        "id": "G1uvIGkdBAnv"
      },
      "execution_count": null,
      "outputs": []
    }
  ]
}